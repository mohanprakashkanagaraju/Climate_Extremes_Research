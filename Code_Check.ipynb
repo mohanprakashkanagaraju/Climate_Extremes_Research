{
 "cells": [
  {
   "cell_type": "code",
   "execution_count": 2,
   "metadata": {},
   "outputs": [
    {
     "name": "stdout",
     "output_type": "stream",
     "text": [
      "Mohan Prakash\n",
      "Climate Extreme Research Project\n",
      "Research Progress made on August 13\n"
     ]
    }
   ],
   "source": [
    "print(\"Mohan Prakash\")\n",
    "print(\"Climate Extreme Research Project\")\n",
    "print('Research Progress made on August 13')"
   ]
  }
 ],
 "metadata": {
  "kernelspec": {
   "display_name": "Python 3",
   "language": "python",
   "name": "python3"
  },
  "language_info": {
   "codemirror_mode": {
    "name": "ipython",
    "version": 3
   },
   "file_extension": ".py",
   "mimetype": "text/x-python",
   "name": "python",
   "nbconvert_exporter": "python",
   "pygments_lexer": "ipython3",
   "version": "3.10.12"
  },
  "orig_nbformat": 4
 },
 "nbformat": 4,
 "nbformat_minor": 2
}
