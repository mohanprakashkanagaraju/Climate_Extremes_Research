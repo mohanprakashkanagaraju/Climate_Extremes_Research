{
 "cells": [
  {
   "cell_type": "markdown",
   "metadata": {},
   "source": [
    "#### Code to download IMD precpipitation and temperature gridded data for analysis"
   ]
  },
  {
   "cell_type": "code",
   "execution_count": 1,
   "metadata": {},
   "outputs": [],
   "source": [
    "#Importing required libraries\n",
    "from selenium import webdriver\n",
    "from selenium.webdriver.common.by import By\n",
    "#Importing libraries to process netCDF4 data\n",
    "import xarray as xr\n",
    "import numpy as np\n",
    "import pandas as pd\n",
    "import os\n",
    "#os.chdir(\"/Users/uditbhatia/Documents/python_tutorials/Climate tutorials\")\n",
    "import glob\n",
    "import matplotlib.pyplot as plt\n",
    "import warnings\n",
    "warnings.filterwarnings(\"ignore\")\n",
    "import plotly.express as px\n",
    "from sklearn.cluster import KMeans\n",
    "from sklearn.preprocessing import StandardScaler\n",
    "import scipy.stats as stats\n",
    "import imdlib as imd"
   ]
  },
  {
   "cell_type": "markdown",
   "metadata": {},
   "source": [
    "#### Downloading IMD Precipitation data (1 X 1 - Resolution)"
   ]
  },
  {
   "cell_type": "code",
   "execution_count": 10,
   "metadata": {},
   "outputs": [],
   "source": [
    "#URL to download precipitation data at a resolution of 1X1\n",
    "url_1 = 'https://www.imdpune.gov.in/cmpg/Griddata/Rainfall_1_NetCDF.html'\n",
    "# Initialize the WebDriver and navigate to the website\n",
    "driver = webdriver.Chrome()\n",
    "driver.get(url_1)\n",
    "for i in range(2015,2022,1):\n",
    "    driver.find_element(By.ID, \"rainone\").click()\n",
    "    dropdown = driver.find_element(By.ID, \"rainone\")\n",
    "    dropdown.find_element(By.XPATH, \"//option[. = \"+str(i)+\"]\").click()\n",
    "    driver.find_element(By.CSS_SELECTOR, \".btn\").click()\n",
    "# Quit the driver\n",
    "driver.quit()"
   ]
  },
  {
   "cell_type": "markdown",
   "metadata": {},
   "source": [
    "#### Downloading IMD Precipitation data (0.25 X 0.25 - Resolution)"
   ]
  },
  {
   "cell_type": "code",
   "execution_count": 11,
   "metadata": {},
   "outputs": [],
   "source": [
    "#URL to download precipitation data at a resolution of 0.25X0.25\n",
    "url_25 = 'https://www.imdpune.gov.in/cmpg/Griddata/Rainfall_25_NetCDF.html'\n",
    "# Initialize the WebDriver and navigate to the website\n",
    "driver = webdriver.Chrome()\n",
    "\n",
    "driver.get(url_25)\n",
    "for i in range(1951,2023,1):\n",
    "    driver.find_element(By.ID, \"RF25\").click()\n",
    "    dropdown = driver.find_element(By.ID, \"RF25\")\n",
    "    dropdown.find_element(By.XPATH, \"//option[. = \"+str(i)+\"]\").click()\n",
    "    driver.find_element(By.CSS_SELECTOR, \".btn\").click()\n",
    "\n",
    "\n",
    "# Quit the driver\n",
    "driver.quit()"
   ]
  },
  {
   "cell_type": "markdown",
   "metadata": {},
   "source": [
    "#### Downloading Maximum temperature data"
   ]
  },
  {
   "cell_type": "code",
   "execution_count": 24,
   "metadata": {},
   "outputs": [],
   "source": [
    "#URL to download temperature data at a resolution of 1X1\n",
    "url_1 = 'https://www.imdpune.gov.in/cmpg/Griddata/Max_1_Bin.html'\n",
    "# Initialize the WebDriver and navigate to the website\n",
    "driver = webdriver.Chrome()\n",
    "driver.get(url_1)\n",
    "for i in range(1951,2022,1):\n",
    "    driver.find_element(By.ID, \"maxtemp\").click()\n",
    "    dropdown = driver.find_element(By.ID, \"maxtemp\")\n",
    "    dropdown.find_element(By.XPATH, \"//option[. = \"+str(i)+\"]\").click()\n",
    "    driver.find_element(By.CSS_SELECTOR, \".btn\").click()\n",
    "# Quit the driver\n",
    "driver.quit()"
   ]
  },
  {
   "cell_type": "code",
   "execution_count": 25,
   "metadata": {},
   "outputs": [],
   "source": [
    "#Downloading minimum temperature data\n",
    "#URL to download temperature data at a resolution of 1X1\n",
    "url_1 = 'https://www.imdpune.gov.in/cmpg/Griddata/Min_1_Bin.html'\n",
    "# Initialize the WebDriver and navigate to the website\n",
    "driver = webdriver.Chrome()\n",
    "driver.get(url_1)\n",
    "for i in range(1951,2022,1):\n",
    "    driver.find_element(By.ID, \"mintemp\").click()\n",
    "    dropdown = driver.find_element(By.ID, \"mintemp\")\n",
    "    dropdown.find_element(By.XPATH, \"//option[. = \"+str(i)+\"]\").click()\n",
    "    driver.find_element(By.CSS_SELECTOR, \".btn\").click()\n",
    "# Quit the driver\n",
    "driver.quit()"
   ]
  },
  {
   "cell_type": "markdown",
   "metadata": {},
   "source": [
    "#### Consolidating the daily files to a single file"
   ]
  },
  {
   "cell_type": "code",
   "execution_count": 3,
   "metadata": {},
   "outputs": [],
   "source": [
    "#Precipitation 1X1 into a single netcdf file\n",
    "os.chdir(\"/home/mohan/climate_extreme_research/research_data_prec_1_x_1\")\n",
    "files = os.listdir()\n",
    "# Open the netCDF files as a single dataset\n",
    "precipitation = xr.open_mfdataset(files, combine='by_coords')\n"
   ]
  },
  {
   "cell_type": "code",
   "execution_count": 4,
   "metadata": {},
   "outputs": [],
   "source": [
    "\n",
    "os.chdir(\"/home/mohan/climate_extreme_research/consolidated_research_data\")\n",
    "precipitation.to_netcdf('precipitation_consolidated_1X1.nc')\n"
   ]
  },
  {
   "cell_type": "code",
   "execution_count": null,
   "metadata": {},
   "outputs": [],
   "source": [
    "#Precipitation 1X1 into a single netcdf file\n",
    "os.chdir(\"/home/mohan/climate_extreme_research/research_data_temp_max\")\n",
    "files = os.listdir()\n",
    "# Open the netCDF files as a single dataset\n",
    "precipitation = xr.open_mfdataset(files, combine='by_coords')\n",
    "os.chdir(\"/home/mohan/climate_extreme_research/consolidated_research_data\")\n",
    "precipitation.to_netcdf('tempmax_consolidated_1X1.nc')\n",
    "\n"
   ]
  },
  {
   "cell_type": "code",
   "execution_count": null,
   "metadata": {},
   "outputs": [],
   "source": [
    "#Precipitation 1X1 into a single netcdf file\n",
    "os.chdir(\"/home/mohan/climate_extreme_research/research_data_temp_min\")\n",
    "files = os.listdir()\n",
    "# Open the netCDF files as a single dataset\n",
    "precipitation = xr.open_mfdataset(files, combine='by_coords')\n",
    "os.chdir(\"/home/mohan/climate_extreme_research/consolidated_research_data\")\n",
    "precipitation.to_netcdf('tempmin_consolidated_1X1.nc')\n",
    "\n"
   ]
  }
 ],
 "metadata": {
  "kernelspec": {
   "display_name": "Python 3",
   "language": "python",
   "name": "python3"
  },
  "language_info": {
   "codemirror_mode": {
    "name": "ipython",
    "version": 3
   },
   "file_extension": ".py",
   "mimetype": "text/x-python",
   "name": "python",
   "nbconvert_exporter": "python",
   "pygments_lexer": "ipython3",
   "version": "3.10.12"
  },
  "orig_nbformat": 4
 },
 "nbformat": 4,
 "nbformat_minor": 2
}
